{
 "cells": [
  {
   "cell_type": "code",
   "execution_count": null,
   "metadata": {},
   "outputs": [],
   "source": [
    "from modules.TCD import *\n",
    "from tqdm import tqdm"
   ]
  },
  {
   "cell_type": "code",
   "execution_count": null,
   "metadata": {},
   "outputs": [],
   "source": [
    "input = r\"C:\\Users\\f.cisse3\\OneDrive - Ecoles Galiléo Global Education France\\Documents\\workspace\\GM\\PBI_GM.csv\"\n",
    "output = r\"C:\\Users\\f.cisse3\\OneDrive - Ecoles Galiléo Global Education France\\Documents\\workspace\\GM\\TCD_GM.xlsx\""
   ]
  },
  {
   "cell_type": "code",
   "execution_count": null,
   "metadata": {},
   "outputs": [],
   "source": [
    "tab1 = True  # 6 mois\n",
    "min1 = 5000  # Salaire minimum pour 6 mois\n",
    "max1 = 150000  # Salaire maximum pour 6 mois\n",
    "promo1 = [\n",
    "    2019,\n",
    "    2020,\n",
    "    2021,\n",
    "    2022,\n",
    "    2023,\n",
    "    2024,\n",
    "]  # Promotion à prendre pour 6 mois (toutes incluses si vide)\n",
    "ecole1 = []  # Ecole à prendre pour 6 mois (toutes incluses si vide)\n",
    "\n",
    "tab2 = True  # Situation actuelle\n",
    "min2 = 5000  # Salaire minimum pour situation actuelle\n",
    "max2 = 150000  # Salaire maximum pour situation actuelle\n",
    "promo2 = [\n",
    "    2019,\n",
    "    2020,\n",
    "    2021,\n",
    "    2022,\n",
    "    2023,\n",
    "    2024,\n",
    "]  # Promotion à prendre pour situation actuelle (toutes incluses si vide)\n",
    "ecole2 = []  # Ecole à prendre pour situation actuelle (toutes incluses si vide)\n",
    "\n",
    "tab3 = True  # Voie d'accès\n",
    "promo3 = [\n",
    "    2019,\n",
    "    2020,\n",
    "    2021,\n",
    "    2022,\n",
    "    2023,\n",
    "    2024,\n",
    "]  # Promotion à prendre pour voie d'accès (toutes incluses si vide)\n",
    "ecole3 = []  # Ecole à prendre pour voie d'accès (toutes incluses si vide)\n",
    "\n",
    "tab4 = True  # Source"
   ]
  },
  {
   "cell_type": "code",
   "execution_count": null,
   "metadata": {},
   "outputs": [],
   "source": [
    "progress = 0\n",
    "if tab1:\n",
    "    progress += 5\n",
    "if tab2:\n",
    "    progress += 5\n",
    "if tab3:\n",
    "    progress += 4\n",
    "if tab4:\n",
    "    progress += 6"
   ]
  },
  {
   "cell_type": "code",
   "execution_count": null,
   "metadata": {},
   "outputs": [],
   "source": [
    "class UpdateClass:\n",
    "    def __init__(self, pbar):\n",
    "        self.pbar = pbar\n",
    "\n",
    "    def __call__(self):\n",
    "        self.pbar.update(1)"
   ]
  },
  {
   "cell_type": "code",
   "execution_count": null,
   "metadata": {},
   "outputs": [],
   "source": [
    "with tqdm(total=progress) as pbar:\n",
    "    update = UpdateClass(pbar)\n",
    "    tcd(\n",
    "        input=input,\n",
    "        output=output,\n",
    "        tab1=tab1,\n",
    "        min1=min1,\n",
    "        max1=max1,\n",
    "        promo1=promo1,\n",
    "        ecole1=ecole1,\n",
    "        tab2=tab2,\n",
    "        min2=min2,\n",
    "        max2=max2,\n",
    "        promo2=promo2,\n",
    "        ecole2=ecole2,\n",
    "        tab3=tab3,\n",
    "        promo3=promo3,\n",
    "        ecole3=ecole3,\n",
    "        tab4=tab4,\n",
    "        update=update,\n",
    "    )"
   ]
  }
 ],
 "metadata": {
  "kernelspec": {
   "display_name": "explo-ds",
   "language": "python",
   "name": "python3"
  },
  "language_info": {
   "codemirror_mode": {
    "name": "ipython",
    "version": 3
   },
   "file_extension": ".py",
   "mimetype": "text/x-python",
   "name": "python",
   "nbconvert_exporter": "python",
   "pygments_lexer": "ipython3",
   "version": "3.11.9"
  }
 },
 "nbformat": 4,
 "nbformat_minor": 2
}
